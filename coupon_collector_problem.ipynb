{
 "cells": [
  {
   "cell_type": "markdown",
   "id": "b126aac7-c494-40e2-83d8-fd374ede4ce6",
   "metadata": {},
   "source": [
    "# Coupon Collector Problem - Not Finished Yet\n",
    "\n",
    "## Introduction"
   ]
  },
  {
   "cell_type": "code",
   "execution_count": 53,
   "id": "c162133d-357f-42f2-9ee4-f6deec6b8fe3",
   "metadata": {},
   "outputs": [],
   "source": [
    "import numpy as np\n",
    "import matplotlib.pyplot as plt\n",
    "import random \n",
    "import pandas as pd\n",
    "import seaborn as sbn\n",
    "import coupon_collector as cc"
   ]
  },
  {
   "cell_type": "code",
   "execution_count": 56,
   "id": "49c19739-59b5-45a5-a657-687f4fbef31a",
   "metadata": {},
   "outputs": [],
   "source": [
    "coupons_needed_list = [10, 20, 30, 40, 50, 60, 70, 80, 90, 100, 110, 120, 130, 140, 150, 160, 170, 180, 190, 200]\n",
    "dataframe = cc.gather_all_games_data(coupons_needed_list, 10)"
   ]
  },
  {
   "cell_type": "code",
   "execution_count": 57,
   "id": "bede7e50-1a86-41f5-8f8c-cf43bb9218c8",
   "metadata": {},
   "outputs": [
    {
     "data": {
      "text/html": [
       "<div>\n",
       "<style scoped>\n",
       "    .dataframe tbody tr th:only-of-type {\n",
       "        vertical-align: middle;\n",
       "    }\n",
       "\n",
       "    .dataframe tbody tr th {\n",
       "        vertical-align: top;\n",
       "    }\n",
       "\n",
       "    .dataframe thead th {\n",
       "        text-align: right;\n",
       "    }\n",
       "</style>\n",
       "<table border=\"1\" class=\"dataframe\">\n",
       "  <thead>\n",
       "    <tr style=\"text-align: right;\">\n",
       "      <th></th>\n",
       "      <th>Coupons Needed</th>\n",
       "      <th>Trials</th>\n",
       "      <th>Mean</th>\n",
       "      <th>Standard Deviation</th>\n",
       "      <th>Minimum</th>\n",
       "      <th>Maximum</th>\n",
       "    </tr>\n",
       "  </thead>\n",
       "  <tbody>\n",
       "    <tr>\n",
       "      <th>0</th>\n",
       "      <td>10.0</td>\n",
       "      <td>10.0</td>\n",
       "      <td>37.2</td>\n",
       "      <td>9.335952</td>\n",
       "      <td>24.0</td>\n",
       "      <td>52.0</td>\n",
       "    </tr>\n",
       "    <tr>\n",
       "      <th>1</th>\n",
       "      <td>20.0</td>\n",
       "      <td>10.0</td>\n",
       "      <td>68.5</td>\n",
       "      <td>13.829317</td>\n",
       "      <td>47.0</td>\n",
       "      <td>92.0</td>\n",
       "    </tr>\n",
       "    <tr>\n",
       "      <th>2</th>\n",
       "      <td>30.0</td>\n",
       "      <td>10.0</td>\n",
       "      <td>118.5</td>\n",
       "      <td>36.277403</td>\n",
       "      <td>57.0</td>\n",
       "      <td>173.0</td>\n",
       "    </tr>\n",
       "    <tr>\n",
       "      <th>3</th>\n",
       "      <td>40.0</td>\n",
       "      <td>10.0</td>\n",
       "      <td>154.7</td>\n",
       "      <td>32.860463</td>\n",
       "      <td>102.0</td>\n",
       "      <td>215.0</td>\n",
       "    </tr>\n",
       "    <tr>\n",
       "      <th>4</th>\n",
       "      <td>50.0</td>\n",
       "      <td>10.0</td>\n",
       "      <td>242.0</td>\n",
       "      <td>55.697397</td>\n",
       "      <td>165.0</td>\n",
       "      <td>358.0</td>\n",
       "    </tr>\n",
       "    <tr>\n",
       "      <th>5</th>\n",
       "      <td>60.0</td>\n",
       "      <td>10.0</td>\n",
       "      <td>238.0</td>\n",
       "      <td>60.383773</td>\n",
       "      <td>143.0</td>\n",
       "      <td>345.0</td>\n",
       "    </tr>\n",
       "    <tr>\n",
       "      <th>6</th>\n",
       "      <td>70.0</td>\n",
       "      <td>10.0</td>\n",
       "      <td>320.4</td>\n",
       "      <td>63.915882</td>\n",
       "      <td>238.0</td>\n",
       "      <td>490.0</td>\n",
       "    </tr>\n",
       "    <tr>\n",
       "      <th>7</th>\n",
       "      <td>80.0</td>\n",
       "      <td>10.0</td>\n",
       "      <td>341.2</td>\n",
       "      <td>59.551322</td>\n",
       "      <td>232.0</td>\n",
       "      <td>425.0</td>\n",
       "    </tr>\n",
       "    <tr>\n",
       "      <th>8</th>\n",
       "      <td>90.0</td>\n",
       "      <td>10.0</td>\n",
       "      <td>443.4</td>\n",
       "      <td>70.007428</td>\n",
       "      <td>344.0</td>\n",
       "      <td>532.0</td>\n",
       "    </tr>\n",
       "    <tr>\n",
       "      <th>9</th>\n",
       "      <td>100.0</td>\n",
       "      <td>10.0</td>\n",
       "      <td>493.0</td>\n",
       "      <td>104.021152</td>\n",
       "      <td>325.0</td>\n",
       "      <td>665.0</td>\n",
       "    </tr>\n",
       "    <tr>\n",
       "      <th>10</th>\n",
       "      <td>110.0</td>\n",
       "      <td>10.0</td>\n",
       "      <td>691.0</td>\n",
       "      <td>179.443584</td>\n",
       "      <td>475.0</td>\n",
       "      <td>1112.0</td>\n",
       "    </tr>\n",
       "    <tr>\n",
       "      <th>11</th>\n",
       "      <td>120.0</td>\n",
       "      <td>10.0</td>\n",
       "      <td>691.5</td>\n",
       "      <td>138.358411</td>\n",
       "      <td>510.0</td>\n",
       "      <td>906.0</td>\n",
       "    </tr>\n",
       "    <tr>\n",
       "      <th>12</th>\n",
       "      <td>130.0</td>\n",
       "      <td>10.0</td>\n",
       "      <td>778.7</td>\n",
       "      <td>221.595149</td>\n",
       "      <td>535.0</td>\n",
       "      <td>1342.0</td>\n",
       "    </tr>\n",
       "    <tr>\n",
       "      <th>13</th>\n",
       "      <td>140.0</td>\n",
       "      <td>10.0</td>\n",
       "      <td>756.4</td>\n",
       "      <td>137.580667</td>\n",
       "      <td>459.0</td>\n",
       "      <td>935.0</td>\n",
       "    </tr>\n",
       "    <tr>\n",
       "      <th>14</th>\n",
       "      <td>150.0</td>\n",
       "      <td>10.0</td>\n",
       "      <td>761.0</td>\n",
       "      <td>102.968927</td>\n",
       "      <td>615.0</td>\n",
       "      <td>928.0</td>\n",
       "    </tr>\n",
       "    <tr>\n",
       "      <th>15</th>\n",
       "      <td>160.0</td>\n",
       "      <td>10.0</td>\n",
       "      <td>936.3</td>\n",
       "      <td>205.808673</td>\n",
       "      <td>541.0</td>\n",
       "      <td>1240.0</td>\n",
       "    </tr>\n",
       "    <tr>\n",
       "      <th>16</th>\n",
       "      <td>170.0</td>\n",
       "      <td>10.0</td>\n",
       "      <td>885.9</td>\n",
       "      <td>229.696517</td>\n",
       "      <td>680.0</td>\n",
       "      <td>1436.0</td>\n",
       "    </tr>\n",
       "    <tr>\n",
       "      <th>17</th>\n",
       "      <td>180.0</td>\n",
       "      <td>10.0</td>\n",
       "      <td>1034.5</td>\n",
       "      <td>219.713564</td>\n",
       "      <td>675.0</td>\n",
       "      <td>1354.0</td>\n",
       "    </tr>\n",
       "    <tr>\n",
       "      <th>18</th>\n",
       "      <td>190.0</td>\n",
       "      <td>10.0</td>\n",
       "      <td>1108.4</td>\n",
       "      <td>227.245770</td>\n",
       "      <td>810.0</td>\n",
       "      <td>1409.0</td>\n",
       "    </tr>\n",
       "    <tr>\n",
       "      <th>19</th>\n",
       "      <td>200.0</td>\n",
       "      <td>10.0</td>\n",
       "      <td>1274.3</td>\n",
       "      <td>340.563665</td>\n",
       "      <td>828.0</td>\n",
       "      <td>2037.0</td>\n",
       "    </tr>\n",
       "  </tbody>\n",
       "</table>\n",
       "</div>"
      ],
      "text/plain": [
       "    Coupons Needed  Trials    Mean  Standard Deviation  Minimum  Maximum\n",
       "0             10.0    10.0    37.2            9.335952     24.0     52.0\n",
       "1             20.0    10.0    68.5           13.829317     47.0     92.0\n",
       "2             30.0    10.0   118.5           36.277403     57.0    173.0\n",
       "3             40.0    10.0   154.7           32.860463    102.0    215.0\n",
       "4             50.0    10.0   242.0           55.697397    165.0    358.0\n",
       "5             60.0    10.0   238.0           60.383773    143.0    345.0\n",
       "6             70.0    10.0   320.4           63.915882    238.0    490.0\n",
       "7             80.0    10.0   341.2           59.551322    232.0    425.0\n",
       "8             90.0    10.0   443.4           70.007428    344.0    532.0\n",
       "9            100.0    10.0   493.0          104.021152    325.0    665.0\n",
       "10           110.0    10.0   691.0          179.443584    475.0   1112.0\n",
       "11           120.0    10.0   691.5          138.358411    510.0    906.0\n",
       "12           130.0    10.0   778.7          221.595149    535.0   1342.0\n",
       "13           140.0    10.0   756.4          137.580667    459.0    935.0\n",
       "14           150.0    10.0   761.0          102.968927    615.0    928.0\n",
       "15           160.0    10.0   936.3          205.808673    541.0   1240.0\n",
       "16           170.0    10.0   885.9          229.696517    680.0   1436.0\n",
       "17           180.0    10.0  1034.5          219.713564    675.0   1354.0\n",
       "18           190.0    10.0  1108.4          227.245770    810.0   1409.0\n",
       "19           200.0    10.0  1274.3          340.563665    828.0   2037.0"
      ]
     },
     "execution_count": 57,
     "metadata": {},
     "output_type": "execute_result"
    }
   ],
   "source": [
    "dataframe"
   ]
  },
  {
   "cell_type": "code",
   "execution_count": 58,
   "id": "6f997b10",
   "metadata": {},
   "outputs": [
    {
     "data": {
      "text/plain": [
       "<AxesSubplot:title={'center':'Coupons Purchased'}, xlabel='Mean', ylabel='Coupons Needed'>"
      ]
     },
     "execution_count": 58,
     "metadata": {},
     "output_type": "execute_result"
    },
    {
     "data": {
      "image/png": "[encoded data removed]",
      "text/plain": [
       "<Figure size 432x288 with 1 Axes>"
      ]
     },
     "metadata": {
      "needs_background": "light"
     },
     "output_type": "display_data"
    }
   ],
   "source": [
    "mean = dataframe['Mean']\n",
    "y = dataframe[\"Coupons Needed\"]\n",
    "show_regplot(dataframe, mean, y)"
   ]
  },
  {
   "cell_type": "code",
   "execution_count": 49,
   "id": "8760ee00",
   "metadata": {},
   "outputs": [
    {
     "data": {
      "text/plain": [
       "<AxesSubplot:title={'center':'Coupons Purchased'}, xlabel='Standard Deviation', ylabel='Coupons Needed'>"
      ]
     },
     "execution_count": 49,
     "metadata": {},
     "output_type": "execute_result"
    },
    {
     "data": {
      "image/png": "[encoded data removed]",
      "text/plain": [
       "<Figure size 432x288 with 1 Axes>"
      ]
     },
     "metadata": {
      "needs_background": "light"
     },
     "output_type": "display_data"
    }
   ],
   "source": [
    "sd = dataframe['Standard Deviation']\n",
    "show_regplot(dataframe, sd, y)"
   ]
  },
  {
   "cell_type": "code",
   "execution_count": 51,
   "id": "73bb34d8",
   "metadata": {},
   "outputs": [
    {
     "data": {
      "text/plain": [
       "<AxesSubplot:title={'center':'Coupons Purchased'}, xlabel='Minimum', ylabel='Coupons Needed'>"
      ]
     },
     "execution_count": 51,
     "metadata": {},
     "output_type": "execute_result"
    },
    {
     "data": {
      "image/png": "[encoded data removed]",
      "text/plain": [
       "<Figure size 432x288 with 1 Axes>"
      ]
     },
     "metadata": {
      "needs_background": "light"
     },
     "output_type": "display_data"
    }
   ],
   "source": [
    "minimum = dataframe['Minimum']\n",
    "show_regplot(dataframe, minimum, y)"
   ]
  },
  {
   "cell_type": "code",
   "execution_count": 52,
   "id": "511a109c",
   "metadata": {},
   "outputs": [
    {
     "data": {
      "text/plain": [
       "<AxesSubplot:title={'center':'Coupons Purchased'}, xlabel='Maximum', ylabel='Coupons Needed'>"
      ]
     },
     "execution_count": 52,
     "metadata": {},
     "output_type": "execute_result"
    },
    {
     "data": {
      "image/png": "[encoded data removed]",
      "text/plain": [
       "<Figure size 432x288 with 1 Axes>"
      ]
     },
     "metadata": {
      "needs_background": "light"
     },
     "output_type": "display_data"
    }
   ],
   "source": [
    "maximum = dataframe['Maximum']\n",
    "show_regplot(dataframe, maximum, y)"
   ]
  },
  {
   "cell_type": "code",
   "execution_count": null,
   "id": "85495c07",
   "metadata": {},
   "outputs": [],
   "source": []
  }
 ],
 "metadata": {
  "kernelspec": {
   "display_name": "Python 3",
   "language": "python",
   "name": "python3"
  },
  "language_info": {
   "codemirror_mode": {
    "name": "ipython",
    "version": 3
   },
   "file_extension": ".py",
   "mimetype": "text/x-python",
   "name": "python",
   "nbconvert_exporter": "python",
   "pygments_lexer": "ipython3",
   "version": "3.8.8"
  }
 },
 "nbformat": 4,
 "nbformat_minor": 5
}
