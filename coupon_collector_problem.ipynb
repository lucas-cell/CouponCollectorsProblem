{
 "cells": [
  {
   "cell_type": "markdown",
   "id": "b126aac7-c494-40e2-83d8-fd374ede4ce6",
   "metadata": {},
   "source": [
    "# Coupon Collector Problem\n",
    "## Introduction"
   ]
  },
  {
   "cell_type": "code",
   "execution_count": 1,
   "id": "c162133d-357f-42f2-9ee4-f6deec6b8fe3",
   "metadata": {},
   "outputs": [],
   "source": [
    "import numpy as np\n",
    "import matplotlib.pyplot as plt\n",
    "import random \n",
    "import pandas as pd"
   ]
  },
  {
   "cell_type": "code",
   "execution_count": 45,
   "id": "2369b766-e6d9-4b1b-ba5c-b3ec1f56f650",
   "metadata": {},
   "outputs": [],
   "source": [
    "coupons = []\n",
    "uniques = []\n",
    "winners = []\n",
    "purchases = []"
   ]
  },
  {
   "cell_type": "code",
   "execution_count": 88,
   "id": "f4d88521-2a1f-4a46-a609-45fdfdd72a72",
   "metadata": {},
   "outputs": [],
   "source": [
    "# Generate the winning set of coupons\n",
    "def generate_winning_set(num_uniques):\n",
    "    for coupon in range(num_uniques):\n",
    "        winners.append(coupon + 1)\n",
    "    return winners\n",
    "\n",
    "# Buy an ice cream and collect the corresponding coupon\n",
    "def buy_ice_cream(num_uniques):\n",
    "    coupon = random.randint(1, num_uniques)\n",
    "    coupons.append(coupon)\n",
    "    return coupons\n",
    "\n",
    "# Find the unique coupons collected \n",
    "def check_coupons(coupons):\n",
    "    for coupon in coupons:\n",
    "        if coupon not in uniques:\n",
    "            uniques.append(coupon)\n",
    "    return uniques\n",
    "\n",
    "# Function to clear lists to start a new game\n",
    "def clear_lists():\n",
    "    coupons.clear()\n",
    "    uniques.clear()\n",
    "    winners.clear()\n",
    "    \n",
    "# Play the coupon collector game \n",
    "def play_game(num_uniques):\n",
    "    # Every game is considered a 'new game' so we need to clear the lists\n",
    "    clear_lists()\n",
    "    \n",
    "    # Used as a counter for the total purchases to win the game. \n",
    "    total_purchases = 0\n",
    "    \n",
    "    # Generate winning tickets\n",
    "    winners = generate_winning_set(num_uniques)\n",
    "    \n",
    "    # Buy ice creams until the set of winning tickets is collected. \n",
    "    while uniques != winners:\n",
    "        # collect a coupon\n",
    "        buy_ice_cream(num_uniques)\n",
    "        \n",
    "        # Increase counter by 1\n",
    "        total_purchases += 1\n",
    "        \n",
    "        # filter the coupons\n",
    "        check_coupons(coupons)\n",
    "        \n",
    "        # sort the coupons\n",
    "        uniques.sort()\n",
    "        \n",
    "        # If the uniques equals the winning set, the costumer won the prize\n",
    "        if(uniques == winners):\n",
    "            purchases.append(total_purchases)\n",
    "            break\n",
    "            \n",
    "def gather_game_data(num_unique, trial_amount):\n",
    "    purchases.clear()\n",
    "    trials = [num_unique] * trial_amount\n",
    "    for trial in trials:\n",
    "        play_game(trial)\n",
    "    purchases.sort()\n",
    "    minimum = purchases[0]\n",
    "    maximum = purchases[trial_amount - 1]\n",
    "    mean = sum(purchases) / len(purchases)  \n",
    "    var = sum([((x - mean) ** 2) for x in purchases]) / len(purchases)\n",
    "    res = var ** 0.5\n",
    "    data = {'Needed': num_unique, 'Trials': trial_amount, 'Mean': mean, 'Variance': var, \"Residual\": res,\n",
    "           \"Minimum\": minimum, \"Maximum\": maximum}\n",
    "    data_items = data.items()\n",
    "    data_list = list(data_items)\n",
    "    return data_list\n",
    "\n",
    "def gather_all_games_data(num_unique, trial_amount):\n",
    "    print(\"\")\n",
    "    "
   ]
  },
  {
   "cell_type": "code",
   "execution_count": 89,
   "id": "49c19739-59b5-45a5-a657-687f4fbef31a",
   "metadata": {},
   "outputs": [
    {
     "data": {
      "text/plain": [
       "[('Needed', 70),\n",
       " ('Trials', 100),\n",
       " ('Mean', 336.15),\n",
       " ('Variance', 6771.2675),\n",
       " ('Residual', 82.28771171930838),\n",
       " ('Minimum', 168),\n",
       " ('Maximum', 606)]"
      ]
     },
     "execution_count": 89,
     "metadata": {},
     "output_type": "execute_result"
    }
   ],
   "source": [
    "gather_game_data(num_unique = 70, trial_amount = 100)"
   ]
  },
  {
   "cell_type": "code",
   "execution_count": 69,
   "id": "8c927731-1bc3-41b0-af43-64729c407363",
   "metadata": {},
   "outputs": [
    {
     "data": {
      "text/plain": [
       "[<matplotlib.lines.Line2D at 0x7fefddf24280>]"
      ]
     },
     "execution_count": 69,
     "metadata": {},
     "output_type": "execute_result"
    },
    {
     "data": {
      "image/png": "[encoded data removed]",
      "text/plain": [
       "<Figure size 432x288 with 1 Axes>"
      ]
     },
     "metadata": {
      "needs_background": "light"
     },
     "output_type": "display_data"
    }
   ],
   "source": []
  },
  {
   "cell_type": "code",
   "execution_count": null,
   "id": "83499b50-f37f-4da2-bc70-285ab19c2100",
   "metadata": {},
   "outputs": [],
   "source": []
  }
 ],
 "metadata": {
  "kernelspec": {
   "display_name": "Python 3",
   "language": "python",
   "name": "python3"
  },
  "language_info": {
   "codemirror_mode": {
    "name": "ipython",
    "version": 3
   },
   "file_extension": ".py",
   "mimetype": "text/x-python",
   "name": "python",
   "nbconvert_exporter": "python",
   "pygments_lexer": "ipython3",
   "version": "3.8.8"
  }
 },
 "nbformat": 4,
 "nbformat_minor": 5
}
