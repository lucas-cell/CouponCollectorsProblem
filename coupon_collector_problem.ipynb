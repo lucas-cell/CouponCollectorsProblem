{
 "cells": [
  {
   "cell_type": "markdown",
   "id": "b126aac7-c494-40e2-83d8-fd374ede4ce6",
   "metadata": {},
   "source": [
    "# Coupon Collector Problem\n",
    "## Introduction"
   ]
  },
  {
   "cell_type": "code",
   "execution_count": 24,
   "id": "c162133d-357f-42f2-9ee4-f6deec6b8fe3",
   "metadata": {},
   "outputs": [],
   "source": [
    "import numpy as np\n",
    "import matplotlib.pyplot as plt\n",
    "import random \n",
    "import pandas as pd"
   ]
  },
  {
   "cell_type": "code",
   "execution_count": 25,
   "id": "2369b766-e6d9-4b1b-ba5c-b3ec1f56f650",
   "metadata": {},
   "outputs": [],
   "source": [
    "coupons = []\n",
    "uniques = []\n",
    "winners = []"
   ]
  },
  {
   "cell_type": "code",
   "execution_count": 72,
   "id": "f4d88521-2a1f-4a46-a609-45fdfdd72a72",
   "metadata": {},
   "outputs": [],
   "source": [
    "# Generate the winning set of coupons\n",
    "def generate_winning_set(num_uniques):\n",
    "    for coupon in range(num_uniques):\n",
    "        winners.append(coupon + 1)\n",
    "    return winners\n",
    "\n",
    "# Buy an ice cream and collect the corresponding coupon\n",
    "def buy_ice_cream(num_uniques):\n",
    "    coupon = random.randint(1, num_uniques)\n",
    "    coupons.append(coupon)\n",
    "    return coupons\n",
    "\n",
    "# Find the unique coupons collected \n",
    "def check_coupons(coupons):\n",
    "    for coupon in coupons:\n",
    "        if coupon not in uniques:\n",
    "            uniques.append(coupon)\n",
    "    return uniques\n",
    "\n",
    "def clear_lists():\n",
    "    coupons.clear()\n",
    "    uniques.clear()\n",
    "    winners.clear()\n",
    "    \n",
    "# Play the coupon collector game \n",
    "def play_game(num_uniques):\n",
    "    # Every game is considered a 'new game' so we need to clear the lists\n",
    "    clear_lists()\n",
    "    \n",
    "    # Used as a counter for the total purchases to win the game. \n",
    "    total_purchases = 0\n",
    "    \n",
    "    # Generate winning tickets\n",
    "    winners = generate_winning_set(num_uniques)\n",
    "    \n",
    "    # Buy ice creams until the set of winning tickets is collected. \n",
    "    while uniques != winners:\n",
    "        # collect a coupon\n",
    "        buy_ice_cream(num_uniques)\n",
    "        \n",
    "        # Increase counter by 1\n",
    "        total_purchases += 1\n",
    "        \n",
    "        # filter the coupons\n",
    "        check_coupons(coupons)\n",
    "        \n",
    "        # sort the coupons\n",
    "        uniques.sort()\n",
    "        \n",
    "        # If the uniques equals the winning set, the costumer won the prize\n",
    "        if(uniques == winners):\n",
    "            print(\"Winner! For unique coupons to collect = \", num_uniques, \"Total purchases = \", total_purchases)\n",
    "            purchases.append(total_purchases)\n",
    "            break\n",
    "def gather_game_data():\n",
    "    trials = [10, 20, 30, 40, 50, 60, 70, 80, 90, 100]\n",
    "    for trial in trials:\n",
    "        play_game(trial)"
   ]
  },
  {
   "cell_type": "code",
   "execution_count": 73,
   "id": "49c19739-59b5-45a5-a657-687f4fbef31a",
   "metadata": {},
   "outputs": [
    {
     "name": "stdout",
     "output_type": "stream",
     "text": [
      "Winner! For unique coupons to collect =  10 Total purchases =  19\n",
      "Winner! For unique coupons to collect =  20 Total purchases =  93\n",
      "Winner! For unique coupons to collect =  30 Total purchases =  154\n",
      "Winner! For unique coupons to collect =  40 Total purchases =  188\n",
      "Winner! For unique coupons to collect =  50 Total purchases =  128\n",
      "Winner! For unique coupons to collect =  60 Total purchases =  201\n",
      "Winner! For unique coupons to collect =  70 Total purchases =  247\n",
      "Winner! For unique coupons to collect =  80 Total purchases =  326\n",
      "Winner! For unique coupons to collect =  90 Total purchases =  488\n",
      "Winner! For unique coupons to collect =  100 Total purchases =  405\n"
     ]
    }
   ],
   "source": [
    "gather_game_data()"
   ]
  },
  {
   "cell_type": "code",
   "execution_count": null,
   "id": "00eecc55-4dab-4af4-a9d2-b45c43da80d2",
   "metadata": {},
   "outputs": [],
   "source": []
  }
 ],
 "metadata": {
  "kernelspec": {
   "display_name": "Python 3",
   "language": "python",
   "name": "python3"
  },
  "language_info": {
   "codemirror_mode": {
    "name": "ipython",
    "version": 3
   },
   "file_extension": ".py",
   "mimetype": "text/x-python",
   "name": "python",
   "nbconvert_exporter": "python",
   "pygments_lexer": "ipython3",
   "version": "3.8.8"
  }
 },
 "nbformat": 4,
 "nbformat_minor": 5
}
