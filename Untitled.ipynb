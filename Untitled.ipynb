{
 "cells": [
  {
   "cell_type": "markdown",
   "id": "b126aac7-c494-40e2-83d8-fd374ede4ce6",
   "metadata": {},
   "source": [
    "# Coupon Collector Problem\n",
    "## Introduction"
   ]
  },
  {
   "cell_type": "code",
   "execution_count": 8,
   "id": "c162133d-357f-42f2-9ee4-f6deec6b8fe3",
   "metadata": {},
   "outputs": [],
   "source": [
    "import numpy as np\n",
    "import matplotlib.pyplot as plt\n",
    "from numba import jit"
   ]
  },
  {
   "cell_type": "code",
   "execution_count": 12,
   "id": "d6e09634-94fd-4939-9a9e-1ee00e402320",
   "metadata": {},
   "outputs": [],
   "source": [
    "@jit(nopython = True, parallel = True)\n",
    "def buy_icecreams(mu, sigma, samples):\n",
    "    s = np.random.normal(mu, sigma, samples)\n",
    "    return s\n",
    "s = buy_icecreams(0, 0.1, 10)"
   ]
  },
  {
   "cell_type": "code",
   "execution_count": null,
   "id": "dcf53642-477c-46b0-8ec2-1b9a34842d0a",
   "metadata": {},
   "outputs": [],
   "source": []
  }
 ],
 "metadata": {
  "kernelspec": {
   "display_name": "Python 3",
   "language": "python",
   "name": "python3"
  },
  "language_info": {
   "codemirror_mode": {
    "name": "ipython",
    "version": 3
   },
   "file_extension": ".py",
   "mimetype": "text/x-python",
   "name": "python",
   "nbconvert_exporter": "python",
   "pygments_lexer": "ipython3",
   "version": "3.8.8"
  }
 },
 "nbformat": 4,
 "nbformat_minor": 5
}
